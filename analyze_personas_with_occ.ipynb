{
 "cells": [
  {
   "cell_type": "code",
   "execution_count": 348,
   "metadata": {},
   "outputs": [],
   "source": [
    "# Uncomment code below and run if running into errors with nltk\n",
    "# import nltk\n",
    "# nltk.download('punkt')"
   ]
  },
  {
   "cell_type": "code",
   "execution_count": 349,
   "metadata": {},
   "outputs": [],
   "source": [
    "from collections import Counter\n",
    "from marked_words_occ import marked_words as get_marked_words_occ\n",
    "from marked_words import marked_words as get_marked_words_no_occ\n",
    "from nltk.tokenize import sent_tokenize, word_tokenize\n",
    "\n",
    "import gensim\n",
    "import gensim.downloader\n",
    "import matplotlib.pyplot as plt\n",
    "import numpy as np\n",
    "import pandas as pd"
   ]
  },
  {
   "cell_type": "code",
   "execution_count": 350,
   "metadata": {},
   "outputs": [],
   "source": [
    "no_occ_df = pd.read_csv('original_marked_personas_generated_personas_gpt-3.5-turbo-0125_10.csv')"
   ]
  },
  {
   "cell_type": "code",
   "execution_count": 351,
   "metadata": {},
   "outputs": [],
   "source": [
    "df = pd.read_csv('generated_personas_occupation_demographics_gpt-3.5-turbo-0125_10.csv')"
   ]
  },
  {
   "cell_type": "code",
   "execution_count": 352,
   "metadata": {},
   "outputs": [],
   "source": [
    "def pprint(dic):\n",
    "    full_list = []\n",
    "    for word in sorted(dic,key=lambda x: x[1],reverse=True):\n",
    "        full_list.append(word[0])\n",
    "    return full_list"
   ]
  },
  {
   "cell_type": "code",
   "execution_count": 353,
   "metadata": {},
   "outputs": [],
   "source": [
    "data = list()"
   ]
  },
  {
   "cell_type": "code",
   "execution_count": 354,
   "metadata": {},
   "outputs": [
    {
     "name": "stdout",
     "output_type": "stream",
     "text": [
      "{'b': ['dark', 'heritage'], 'a White': ['time', 'sophistication'], 'a Black': ['black', 'resilience', 'strength', 'rich', 'full', 'deep', 'crown', 'african', 'power', 'curls', 'tightly', 'powerful', 'coiled', 'force', 'heritage', 'coils', 'determination', 'proud', 'presence', 'reckoned', 'wisdom', 'faced', 'ancestors', 'curly', 'that', 'bold', 'resilient', 'knowing', 'testament', 'dark', 'unapologetically', 'ebony', 'of', 'grace', 'against', 'beautiful'], 'an Asian': ['asian', 'almondshaped', 'smooth', 'petite', 'modern', 'quiet', 'dark', 'traditional', 'heritage', 'tan', 'sleek', 'cultural', 'respect', 'straight'], 'a Middle-Eastern': ['middleeastern', 'dark', 'olive', 'intricate', 'heritage', 'traditional', 'middle', 'culture', 'thobe', 'community', 'strength', 'my', 'hospitality', 'cultural', 'keffiyeh', 'east', 'strong', 'traditions', 'rich', 'adorned', 'beard', 'faith', 'olivetoned'], 'a Latina': ['latina', 'her', 'fiery', 'dark', 'heritage', 'culture', 'fiercely', 'roots', 'vibrant', 'strength', 'olive', 'passion', 'proud', 'spirit', 'determination', 'resilience', 'woman', 'strong'], 'a Latino': ['latino', 'his', 'heritage', 'community', 'cultural', 'dark', 'music', 'strong', 'their', 'olive', 'spanish', 'culture', 'roots', 'passionate', 'food', 'proud'], nan: ['her', 'she', 'nonbinary', 'gender', 'they', 'their', 'identity', 'woman', 'person', 'norms', 'unique', 'societal', 'feminine'], 'F': ['her', 'she', 'woman', 'women', 'herself', 'waves', 'down', 'back', 'beauty', 'latina', 'long', 'delicate', 'cascades', 'flowing', 'grace', 'independent', 'graceful', 'elegance', 'that', 'poise', 'petite', 'soft', 'force', 'strength', 'fiery', 'reckoned', 'natural', 'elegant', 'fiercely', 'blonde', 'vibrant', 'porcelain', 'adorned', 'spirit', 'embodying', 'lashes', 'glows', 'loose', 'falls', 'fierce', 'cascading', 'mind', 'intricate', 'my', 'jewelry', 'resilience', 'radiant'], 'M': ['shirt', 'beard', 'thobe', 'angular', 'lean', 'handsome', 'sharp', 'keffiyeh', 'facial', 'years', 'charismatic', 'broad', 'sense', 'sports', 'chiseled', 'crisp', 'brown', 'ethic', 'authority', 'charisma', 'pride'], 'N': ['nonbinary', 'they', 'gender', 'their', 'identity', 'person', 'norms', 'unique', 'societal', 'this', 'expectations', 'feminine', 'both', 'masculine', 'who', 'express', 'mix', 'binary', 'genderneutral', 'themselves', 'traditional', 'female', 'feel', 'embrace', 'male', 'challenging', 'style', 'self', 'true', 'conform', 'identities', 'felt', 'individual', 'authentic', 'acceptance', 'not', 'elements', 'pronouns', 'embracing', 'navigate', 'to', 'social', 'advocating', 'expressing', 'authentically', 'marginalized', 'blending', 'create', 'find', 'inclusive', 'unapologetically', 'way', 'fit', 'more', 'expression', 'lgbtq', 'blend', 'feels', 'advocate', 'rights', 'may', 'own', 'authenticity', 'myself', 'within', 'society', 'styles', 'world', 'ways', 'justice', 'understand', 'comfortable', 'challenge', 'use', 'fashion', 'present', 'constantly', 'theythem', 'understanding', 'outside', 'fluidity', 'roles', 'journey', 'mixing', 'eclectic', 'pieces', 'them', 'communities', 'prefer', 'accepting', 'exude', 'traditionally', 'am', 'accept', 'bold', 'categories', 'creative', 'identify', 'my', 'move', 'growing', 'colors', 'modern', 'using', 'into', 'issues', 'dont', 'quite', 'visibility', 'androgynous', 'complexities', 'means', 'navigating', 'rigid', 'selfdiscovery', 'most', 'masculinity', 'someone', 'identifies', 'contemporary', 'i', 'femininity', 'individuality', 'that', 'greater', 'being', 'defies', 'choose', 'genders', 'or', 'challenges', 'embraces', 'inclusivity', 'choices', 'energies', 'strictly', 'exist', 'clothing'], 'bN': [], 'bF': [], 'a WhiteN': ['their'], 'a WhiteF': ['her', 'she'], 'a BlackN': ['their', 'bold'], 'a BlackF': ['her', 'strength', 'force', 'beauty', 'reckoned', 'crown', 'power', 'coils', 'grace'], 'an AsianN': ['asian', 'their', 'traditional', 'blend', 'modern'], 'an AsianF': ['her', 'petite', 'asian', 'almondshaped', 'porcelain', 'sleek'], 'a Middle-EasternN': ['their', 'traditional'], 'a Middle-EasternF': ['her', 'woman', 'intricate', 'adorned', 'my', 'hijab'], 'a LatinaN': [], 'a LatinaF': ['her', 'latina', 'fiery', 'woman', 'fiercely', 'vibrant', 'spirit'], 'a LatinoN': ['nonbinary', 'their', 'they', 'latino'], 'a LatinoF': []}\n"
     ]
    }
   ],
   "source": [
    "dv3_mw_no_occ = {}\n",
    "for race in no_occ_df['race'].unique():\n",
    "#     print('\\n Top words for %s \\n-------' % race)\n",
    "    outs = pprint(get_marked_words_no_occ(no_occ_df, [race], ['race'],['a White']))\n",
    "    dv3_mw_no_occ[race] = outs\n",
    "temps = []\n",
    "for race in no_occ_df['race'].unique():\n",
    "#     print('\\n Top words for %s \\n-------' % race)\n",
    "    temp = pprint(get_marked_words_no_occ(no_occ_df, ['a White'], ['race'],[race]))\n",
    "    temps.extend(temp)\n",
    "seen = Counter(temps).most_common()\n",
    "dv3_mw_no_occ['a White']=[w for w, c in seen if c == 4]\n",
    "\n",
    "\n",
    "for race in no_occ_df['gender'].unique():\n",
    "#     print('\\n Top words for %s \\n-------' % race)\n",
    "    outs = pprint(get_marked_words_no_occ(no_occ_df, [race], ['gender'],['M']))\n",
    "    dv3_mw_no_occ[race] = outs\n",
    "temps = []\n",
    "for race in no_occ_df['gender'].unique():\n",
    "#     print('\\n Top words for %s \\n-------' % race)\n",
    "    temp = pprint(get_marked_words_no_occ(no_occ_df, ['M'], ['gender'],[race]))\n",
    "    temps.extend(temp)\n",
    "\n",
    "seen = Counter(temps).most_common()\n",
    "dv3_mw_no_occ['M']=[w for w, c in seen if c == 2]\n",
    "    \n",
    "    \n",
    "# Top words for intersectional groups\n",
    "for race in no_occ_df['race'].unique():\n",
    "    for gen in ['N','F']:\n",
    "        dv3_mw_no_occ[race+gen] = pprint(get_marked_words_no_occ(no_occ_df, [race, gen], ['race', 'gender'],['a White','M']))\n",
    "\n",
    "marked_word_similarity = dict()\n",
    "temp = list()\n",
    "for key in list(dv3_mw_no_occ.keys()):\n",
    "    marked_word_similarity[key] = list()\n",
    "    for word in dv3_mw_no_occ[key]:\n",
    "        temp.append(word_tokenize(word))\n",
    "if len(temp) > 0:\n",
    "    data = temp\n",
    "# print(data)\n",
    "print(dv3_mw_no_occ)"
   ]
  },
  {
   "cell_type": "code",
   "execution_count": null,
   "metadata": {},
   "outputs": [],
   "source": []
  },
  {
   "cell_type": "code",
   "execution_count": 355,
   "metadata": {},
   "outputs": [],
   "source": [
    "occupations_df = pd.read_csv('occupations_stats_from_winogender.tsv', sep='\\t')\n",
    "\n",
    "occupations = occupations_df['occupation']\n"
   ]
  },
  {
   "cell_type": "code",
   "execution_count": 356,
   "metadata": {},
   "outputs": [],
   "source": [
    "def compare_words(occ_words, base_words, model):\n",
    "    sim_words = list()\n",
    "    if len(base_words) == 0:\n",
    "        print('len(base_words) == 0')\n",
    "        return []\n",
    "    for occ_word in occ_words:\n",
    "        total = 0\n",
    "        count = 0\n",
    "        for words in occ_word:\n",
    "            for word in words:\n",
    "                min_sim = abs(model.wv.similarity(word, base_words[0]))\n",
    "                for base_word in base_words[1:]:\n",
    "                    min_sim = min(min_sim, abs(model.wv.similarity(word, base_word)))\n",
    "                total += min_sim\n",
    "                count += 1\n",
    "            if count > 0:\n",
    "                sim_words.append(total / count)\n",
    "                # sim_words.append(min_sim)\n",
    "    if len(sim_words) > 1:\n",
    "        print(\"MORE THAN 1\")\n",
    "    return sim_words"
   ]
  },
  {
   "cell_type": "code",
   "execution_count": 357,
   "metadata": {},
   "outputs": [
    {
     "name": "stdout",
     "output_type": "stream",
     "text": [
      "Occuption: accountant\n",
      "Occuption: supervisor\n",
      "Occuption: engineer\n",
      "Occuption: worker\n",
      "Occuption: educator\n",
      "Occuption: clerk\n",
      "Occuption: counselor\n",
      "Occuption: inspector\n",
      "Occuption: mechanic\n",
      "Occuption: manager\n",
      "Occuption: therapist\n",
      "Occuption: administrator\n",
      "Occuption: salesperson\n",
      "Occuption: receptionist\n",
      "Occuption: librarian\n",
      "Occuption: advisor\n",
      "Occuption: pharmacist\n",
      "Occuption: janitor\n",
      "Occuption: psychologist\n",
      "Occuption: physician\n",
      "Occuption: carpenter\n",
      "Occuption: nurse\n",
      "Occuption: investigator\n",
      "Occuption: bartender\n",
      "Occuption: specialist\n",
      "Occuption: electrician\n",
      "Occuption: officer\n",
      "Occuption: pathologist\n",
      "Occuption: teacher\n",
      "Occuption: lawyer\n",
      "Occuption: planner\n",
      "Occuption: practitioner\n",
      "Occuption: plumber\n",
      "Occuption: instructor\n",
      "Occuption: surgeon\n",
      "Occuption: veterinarian\n",
      "Occuption: paramedic\n",
      "Occuption: examiner\n",
      "Occuption: chemist\n",
      "Occuption: machinist\n",
      "Occuption: appraiser\n",
      "Occuption: nutritionist\n",
      "Occuption: architect\n",
      "Occuption: hairdresser\n",
      "Occuption: baker\n",
      "Occuption: programmer\n",
      "Occuption: paralegal\n",
      "Occuption: hygienist\n",
      "Occuption: scientist\n",
      "Occuption: dispatcher\n",
      "Occuption: cashier\n",
      "Occuption: auditor\n",
      "Occuption: dietitian\n",
      "Occuption: painter\n",
      "Occuption: broker\n",
      "Occuption: chef\n",
      "Occuption: doctor\n",
      "Occuption: firefighter\n",
      "Occuption: secretary\n",
      "Occuption: software engineer\n",
      "Occuption: cook\n",
      "Occuption: pilot\n",
      "{'b': [[[]], [[]], [[]], [[]], [[]], [[]], [[]], [[]], [[]], [[]], [[]], [[]], [[]], [[]], [[]], [[]], [[]], [[]], [[]], [[]], [[]], [[]], [[]], [[]], [[]], [[]], [[]], [[]], [[]], [[]], [[]], [[]], [[]], [[]], [[]], [[]], [[]], [[]], [[]], [[]], [[]], [[]], [[]], [[]], [[]], [[]], [[]], [[]], [[]], [[]], [[]], [[]], [[]], [[]], [[]], [[]], [[]], [[]], [[]], [[]], [[]], [[]]], 'a White': [], 'a Black': [[[]], [[]], [[]], [[]], [[]], [[]], [[]], [[]], [[]], [[]], [[]], [[]], [[]], [[]], [[]], [[]], [[]], [[]], [[]], [[]], [[]], [[]], [[]], [[]], [[]], [[]], [[]], [[]], [[]], [[]], [[]], [[]], [[]], [[]], [[]], [[]], [[]], [[]], [[]], [[]], [[]], [[]], [[]], [[]], [[]], [[]], [[]], [[]], [[]], [[]], [[]], [[]], [[]], [[]], [[]], [[]], [[]], [[]], [[]], [[]], [[]], [[]]], 'an Asian': [[[]], [[]], [[]], [[]], [[]], [[]], [[]], [[]], [[]], [[]], [[]], [[]], [[]], [[]], [[]], [[]], [[]], [[]], [[]], [[]], [[]], [[]], [[]], [[]], [[]], [[]], [[]], [[]], [[]], [[]], [[]], [[]], [[]], [[]], [[]], [[]], [[]], [[]], [[]], [[]], [[]], [[]], [[]], [[]], [[]], [[]], [[]], [[]], [[]], [[]], [[]], [[]], [[]], [[]], [[]], [[]], [[]], [[]], [[]], [[]], [[]], [[]]], 'a Middle-Eastern': [[[]], [[]], [[]], [[]], [[]], [[]], [[]], [[]], [[]], [[]], [[]], [[]], [[]], [[]], [[]], [[]], [[]], [[]], [[]], [[]], [[]], [[]], [[]], [[]], [[]], [[]], [[]], [[]], [[]], [[]], [[]], [[]], [[]], [[]], [[]], [[]], [[]], [[]], [[]], [[]], [[]], [[]], [[]], [[]], [[]], [[]], [[]], [[]], [[]], [[]], [[]], [[]], [[]], [[]], [[]], [[]], [[]], [[]], [[]], [[]], [[]], [[]]], 'a Latina': [[[]], [[]], [[]], [[]], [[]], [[]], [[]], [[]], [[]], [[]], [[]], [[]], [[]], [[]], [[]], [[]], [[]], [[]], [[]], [[]], [[]], [[]], [[]], [[]], [[]], [[]], [[]], [[]], [[]], [[]], [[]], [[]], [[]], [[]], [[]], [[]], [[]], [[]], [[]], [[]], [[]], [[]], [[]], [[]], [[]], [[]], [[]], [[]], [[]], [[]], [[]], [[]], [[]], [[]], [[]], [[]], [[]], [[]], [[]], [[]], [[]], [[]]], 'a Latino': [[[]], [[]], [[]], [[]], [[]], [[]], [[]], [[]], [[]], [[]], [[]], [[]], [[]], [[]], [[]], [[]], [[]], [[]], [[]], [[]], [[]], [[]], [[]], [[]], [[]], [[]], [[]], [[]], [[]], [[]], [[]], [[]], [[]], [[]], [[]], [[]], [[]], [[]], [[]], [[]], [[]], [[]], [[]], [[]], [[]], [[]], [[]], [[]], [[]], [[]], [[]], [[]], [[]], [[]], [[]], [[]], [[]], [[]], [[]], [[]], [[]], [[]]], nan: [[[]], [[]], [[]], [[]], [[]], [[]], [[]], [[]], [[]], [[]], [[]], [[]], [[]], [[]], [[]], [[]], [[]], [[]], [[]], [[]], [[]], [[]], [[]], [[]], [[]], [[]], [[]], [[]], [[]], [[]], [[]], [[]], [[]], [[]], [[]], [[]], [[]], [[]], [[]], [[]], [[]], [[]], [[]], [[]], [[]], [[]], [[]], [[]], [[]], [[]], [[]], [[]], [[]], [[]], [[]], [[]], [[]], [[]], [[]], [[]], [[]], [[]]], 'F': [[[]], [[]], [[]], [[]], [[]], [[]], [[]], [[]], [[]], [[]], [[]], [[]], [[]], [[]], [[]], [[]], [[]], [[]], [[]], [[]], [[]], [[]], [[]], [[]], [[]], [[]], [[]], [[]], [[]], [[]], [[]], [[]], [[]], [[]], [[]], [[]], [[]], [[]], [[]], [[]], [[]], [[]], [[]], [[]], [[]], [[]], [[]], [[]], [[]], [[]], [[]], [[]], [[]], [[]], [[]], [[]], [[]], [[]], [[]], [[]], [[]], [[]]], 'M': [], 'N': [[[]], [[]], [[]], [[]], [[]], [[]], [[]], [[]], [[]], [[]], [[]], [[]], [[]], [[]], [[]], [[]], [[]], [[]], [[]], [[]], [[]], [[]], [[]], [[]], [[]], [[]], [[]], [[]], [[]], [[]], [[]], [[]], [[]], [[]], [[]], [[]], [[]], [[]], [[]], [[]], [[]], [[]], [[]], [[]], [[]], [[]], [[]], [[]], [[]], [[]], [[]], [[]], [[]], [[]], [[]], [[]], [[]], [[]], [[]], [[]], [[]], [[]]], 'bN': [[[]], [[]], [[]], [[]], [[]], [[]], [[]], [[]], [[]], [[]], [[]], [[]], [[]], [[]], [[]], [[]], [[]], [[]], [[]], [[]], [[]], [[]], [[]], [[]], [[]], [[]], [[]], [[]], [[]], [[]], [[]], [[]], [[]], [[]], [[]], [[]], [[]], [[]], [[]], [[]], [[]], [[]], [[]], [[]], [[]], [[]], [[]], [[]], [[]], [[]], [[]], [[]], [[]], [[]], [[]], [[]], [[]], [[]], [[]], [[]], [[]], [[]]], 'bF': [[[]], [[]], [[]], [[]], [[]], [[]], [[]], [[]], [[]], [[]], [[]], [[]], [[]], [[]], [[]], [[]], [[]], [[]], [[]], [[]], [[]], [[]], [[]], [[]], [[]], [[]], [[]], [[]], [[]], [[]], [[]], [[]], [[]], [[]], [[]], [[]], [[]], [[]], [[]], [[]], [[]], [[]], [[]], [[]], [[]], [[]], [[]], [[]], [[]], [[]], [[]], [[]], [[]], [[]], [[]], [[]], [[]], [[]], [[]], [[]], [[]], [[]]], 'a WhiteN': [[[]], [[]], [[]], [[]], [[]], [[]], [[]], [[]], [[]], [[]], [[]], [[]], [[]], [[]], [[]], [[]], [[]], [[]], [[]], [[]], [[]], [[]], [[]], [[]], [[]], [[]], [[]], [[]], [['their']], [['their']], [[]], [[]], [[]], [[]], [[]], [[]], [[]], [[]], [[]], [[]], [[]], [[]], [[]], [[]], [[]], [[]], [[]], [[]], [[]], [[]], [[]], [[]], [[]], [[]], [[]], [['their']], [[]], [[]], [[]], [['their', 'they']], [['their']], [['their', 'they']]], 'a WhiteF': [[['her', 'she']], [[]], [[]], [[]], [[]], [[]], [[]], [[]], [[]], [[]], [[]], [[]], [[]], [[]], [[]], [[]], [[]], [[]], [[]], [[]], [[]], [['her', 'she']], [[]], [[]], [[]], [[]], [[]], [[]], [['her', 'she']], [['her', 'she']], [[]], [[]], [[]], [[]], [[]], [[]], [[]], [[]], [[]], [[]], [[]], [[]], [[]], [[]], [[]], [[]], [[]], [[]], [[]], [[]], [[]], [[]], [[]], [[]], [[]], [['her', 'she']], [['her', 'she']], [[]], [[]], [['she', 'her']], [['her', 'she']], [['her', 'she']]], 'a BlackN': [[['black', 'unique', 'marginalized', 'barriers', 'bring']], [[]], [[]], [[]], [[]], [[]], [[]], [[]], [[]], [[]], [[]], [[]], [[]], [[]], [[]], [[]], [[]], [[]], [[]], [[]], [[]], [['unique']], [[]], [[]], [[]], [[]], [[]], [[]], [['their', 'voices', 'race', 'perspective']], [['their', 'black', 'this']], [[]], [[]], [[]], [[]], [[]], [[]], [[]], [[]], [[]], [[]], [[]], [[]], [[]], [[]], [[]], [[]], [[]], [[]], [[]], [[]], [[]], [[]], [[]], [[]], [[]], [['their', 'bold']], [['marginalized', 'communities', 'perspective', 'barriers']], [[]], [[]], [['their', 'they', 'perspective', 'unique']], [['their', 'this', 'identity', 'african']], [['their', 'they', 'barriers']]], 'a BlackF': [[['her', 'she', 'black', 'women', 'model', 'barriers', 'other']], [[]], [[]], [[]], [[]], [[]], [[]], [[]], [[]], [[]], [[]], [[]], [[]], [[]], [[]], [[]], [[]], [[]], [[]], [[]], [[]], [['her', 'she', 'strength', 'aspiring']], [[]], [[]], [[]], [[]], [[]], [[]], [['her', 'she', 'ms', 'strength']], [['her', 'she', 'black', 'women', 'barriers']], [[]], [[]], [[]], [[]], [[]], [[]], [[]], [[]], [[]], [[]], [[]], [[]], [[]], [[]], [[]], [[]], [[]], [[]], [[]], [[]], [[]], [[]], [[]], [[]], [[]], [['her']], [['her', 'black', 'breaking', 'barriers']], [[]], [[]], [['she', 'her', 'model']], [['her']], [['her', 'captain']]], 'an AsianN': [[['asian']], [[]], [[]], [[]], [[]], [[]], [[]], [[]], [[]], [[]], [[]], [[]], [[]], [[]], [[]], [[]], [[]], [[]], [[]], [[]], [[]], [['asian', 'traditional', 'an']], [[]], [[]], [[]], [[]], [[]], [[]], [['their', 'asian', 'traditional']], [['their', 'asian']], [[]], [[]], [[]], [[]], [[]], [[]], [[]], [[]], [[]], [[]], [[]], [[]], [[]], [[]], [[]], [[]], [[]], [[]], [[]], [[]], [[]], [[]], [[]], [[]], [[]], [['their', 'asian', 'nonbinary', 'identity']], [['asian', 'lee']], [[]], [[]], [['their', 'they', 'asian', 'an', 'perspective', 'unique', 'bring']], [['their', 'they', 'asian', 'modern', 'traditional']], [['their']]], 'an AsianF': [[['her']], [[]], [[]], [[]], [[]], [[]], [[]], [[]], [[]], [[]], [[]], [[]], [[]], [[]], [[]], [[]], [[]], [[]], [[]], [[]], [[]], [['her', 'she', 'petite', 'almondshaped']], [[]], [[]], [[]], [[]], [[]], [[]], [['her', 'she', 'petite', 'almondshaped', 'falls']], [['her']], [[]], [[]], [[]], [[]], [[]], [[]], [[]], [[]], [[]], [[]], [[]], [[]], [[]], [[]], [[]], [[]], [[]], [[]], [[]], [[]], [[]], [[]], [[]], [[]], [[]], [['her', 'she', 'asian', 'petite']], [['her', 'she', 'petite', 'zhang']], [[]], [[]], [['her', 'she']], [['her', 'she', 'petite', 'asian', 'delicate', 'almondshaped', 'features']], [['her']]], 'a Middle-EasternN': [[['middleeastern']], [[]], [[]], [[]], [[]], [[]], [[]], [[]], [[]], [[]], [[]], [[]], [[]], [[]], [[]], [[]], [[]], [[]], [[]], [[]], [[]], [['middleeastern', 'unique']], [[]], [[]], [[]], [[]], [[]], [[]], [['their', 'nonbinary', 'middleeastern', 'acceptance']], [['their', 'middleeastern']], [[]], [[]], [[]], [[]], [[]], [[]], [[]], [[]], [[]], [[]], [[]], [[]], [[]], [[]], [[]], [[]], [[]], [[]], [[]], [[]], [[]], [[]], [[]], [[]], [[]], [['their', 'middleeastern']], [['middleeastern']], [[]], [[]], [['their', 'middleeastern', 'unique', 'perspective']], [['their', 'middleeastern', 'this', 'modern']], [['their', 'middleeastern']]], 'a Middle-EasternF': [[['her', 'she', 'middleeastern']], [[]], [[]], [[]], [[]], [[]], [[]], [[]], [[]], [[]], [[]], [[]], [[]], [[]], [[]], [[]], [[]], [[]], [[]], [[]], [[]], [['her', 'she', 'hijab']], [[]], [[]], [[]], [[]], [[]], [[]], [['her', 'she', 'middleeastern']], [['her', 'middleeastern', 'women']], [[]], [[]], [[]], [[]], [[]], [[]], [[]], [[]], [[]], [[]], [[]], [[]], [[]], [[]], [[]], [[]], [[]], [[]], [[]], [[]], [[]], [[]], [[]], [[]], [[]], [['her', 'middleeastern']], [['her', 'middleeastern']], [[]], [[]], [['her', 'sara', 'stereotypes']], [['her', 'cumin', 'cinnamon']], [['her', 'sara']]], 'a LatinaN': [[[]], [[]], [[]], [[]], [[]], [[]], [[]], [[]], [[]], [[]], [[]], [[]], [[]], [[]], [[]], [[]], [[]], [[]], [[]], [[]], [[]], [[]], [[]], [[]], [[]], [[]], [[]], [[]], [[]], [[]], [[]], [[]], [[]], [[]], [[]], [[]], [[]], [[]], [[]], [[]], [[]], [[]], [[]], [[]], [[]], [[]], [[]], [[]], [[]], [[]], [[]], [[]], [[]], [[]], [[]], [[]], [[]], [[]], [[]], [[]], [[]], [[]]], 'a LatinaF': [[['her', 'latina', 'maria']], [[]], [[]], [[]], [[]], [[]], [[]], [[]], [[]], [[]], [[]], [[]], [[]], [[]], [[]], [[]], [[]], [[]], [[]], [[]], [[]], [['her', 'latina', 'maria']], [[]], [[]], [[]], [[]], [[]], [[]], [['her', 'she', 'latina']], [['her', 'she', 'latina']], [[]], [[]], [[]], [[]], [[]], [[]], [[]], [[]], [[]], [[]], [[]], [[]], [[]], [[]], [[]], [[]], [[]], [[]], [[]], [[]], [[]], [[]], [[]], [[]], [[]], [['her', 'latina', 'latin', 'vibrant']], [['her', 'latina']], [[]], [[]], [['her', 'latina', 'maria']], [['her', 'she', 'latina', 'latin', 'vibrant']], [['her', 'latina', 'maria', 'women']]], 'a LatinoN': [[['unique', 'perspective', 'bring', 'maria']], [[]], [[]], [[]], [[]], [[]], [[]], [[]], [[]], [[]], [[]], [[]], [[]], [[]], [[]], [[]], [[]], [[]], [[]], [[]], [[]], [['latino', 'unique']], [[]], [[]], [[]], [[]], [[]], [[]], [['their', 'embrace', 'perspective', 'bring']], [['their', 'perspective']], [[]], [[]], [[]], [[]], [[]], [[]], [[]], [[]], [[]], [[]], [[]], [[]], [[]], [[]], [[]], [[]], [[]], [[]], [[]], [[]], [[]], [[]], [[]], [[]], [[]], [['their', 'identity', 'latinx', 'latin', 'embrace']], [['identity', 'unique', 'bring', 'perspective']], [[]], [[]], [['their', 'they', 'bring', 'perspective', 'unique']], [['their', 'they', 'identity', 'latin', 'modern']], [['their']]], 'a LatinoF': [[[]], [[]], [[]], [[]], [[]], [[]], [[]], [[]], [[]], [[]], [[]], [[]], [[]], [[]], [[]], [[]], [[]], [[]], [[]], [[]], [[]], [[]], [[]], [[]], [[]], [[]], [[]], [[]], [[]], [[]], [[]], [[]], [[]], [[]], [[]], [[]], [[]], [[]], [[]], [[]], [[]], [[]], [[]], [[]], [[]], [[]], [[]], [[]], [[]], [[]], [[]], [[]], [[]], [[]], [[]], [[]], [[]], [[]], [[]], [[]], [[]], [[]]]}\n"
     ]
    }
   ],
   "source": [
    "word_count_per_occupation = dict()\n",
    "all_words = list()\n",
    "\n",
    "dv3_mw = dict()\n",
    "for occupation in occupations[1:]:\n",
    "    print('Occuption:', occupation)\n",
    "    for race in df['race'].unique():\n",
    "        # print('\\n Top words for %s \\n-------' % race)\n",
    "        outs = pprint(get_marked_words_occ(df, [race], ['race'],['a White'], occupation))\n",
    "        if race in dv3_mw:\n",
    "            dv3_mw[race].append([outs])\n",
    "        else:\n",
    "            dv3_mw[race] = [[outs]]\n",
    "    temps = []\n",
    "    for race in df['race'].unique():\n",
    "        # print('\\n Top words for %s \\n-------' % race)\n",
    "        temp = pprint(get_marked_words_occ(df, ['a White'], ['race'],[race], occupation))\n",
    "        temps.extend(temp)\n",
    "    seen = Counter(temps).most_common()\n",
    "    dv3_mw['a White']=[w for w, c in seen if c == 4]\n",
    "\n",
    "\n",
    "    for race in df['gender'].unique():\n",
    "        # print('\\n Top words for %s \\n-------' % race)\n",
    "        outs = pprint(get_marked_words_occ(df, [race], ['gender'],['M'], occupation))\n",
    "        if race in dv3_mw:\n",
    "            dv3_mw[race].append([outs])\n",
    "        else:\n",
    "            dv3_mw[race] = [[outs]]\n",
    "    temps = []\n",
    "    for race in df['gender'].unique():\n",
    "    #     print('\\n Top words for %s \\n-------' % race)\n",
    "        temp = pprint(get_marked_words_occ(df, ['M'], ['gender'],[race], occupation))\n",
    "        temps.extend(temp)\n",
    "        data += temp\n",
    "\n",
    "    seen = Counter(temps).most_common()\n",
    "    dv3_mw['M']=[w for w, c in seen if c == 2]\n",
    "        \n",
    "        \n",
    "    # Top words for intersectional groups\n",
    "    for race in df['race'].unique():\n",
    "        for gen in ['N','F']:\n",
    "            outs = pprint(get_marked_words_occ(df, [race, gen], ['race', 'gender'],['a White','M'], [occupation]))\n",
    "            if race+gen in dv3_mw:\n",
    "                dv3_mw[race+gen].append([outs])\n",
    "            else:\n",
    "                dv3_mw[race+gen] = [[outs]]\n",
    "            data += outs\n",
    "    for key in dv3_mw.keys():\n",
    "        if type(key) is not str:\n",
    "            continue\n",
    "        new_key = key\n",
    "        if key[0] == 'b':\n",
    "            continue\n",
    "        if \"F\" in new_key:\n",
    "            new_key = new_key.replace(\"F\", \"W\")\n",
    "    for key in list(dv3_mw.keys()):\n",
    "        for occ_word_list in dv3_mw[key]:\n",
    "            for word in occ_word_list:\n",
    "                if type(word) is str:\n",
    "                    data.append(word_tokenize(word))\n",
    "print(dv3_mw)\n"
   ]
  },
  {
   "cell_type": "code",
   "execution_count": 358,
   "metadata": {},
   "outputs": [
    {
     "name": "stdout",
     "output_type": "stream",
     "text": [
      "[[['her', 'she', 'black', 'women', 'model', 'barriers', 'other']], [[]], [[]], [[]], [[]], [[]], [[]], [[]], [[]], [[]], [[]], [[]], [[]], [[]], [[]], [[]], [[]], [[]], [[]], [[]], [[]], [['her', 'she', 'strength', 'aspiring']], [[]], [[]], [[]], [[]], [[]], [[]], [['her', 'she', 'ms', 'strength']], [['her', 'she', 'black', 'women', 'barriers']], [[]], [[]], [[]], [[]], [[]], [[]], [[]], [[]], [[]], [[]], [[]], [[]], [[]], [[]], [[]], [[]], [[]], [[]], [[]], [[]], [[]], [[]], [[]], [[]], [[]], [['her']], [['her', 'black', 'breaking', 'barriers']], [[]], [[]], [['she', 'her', 'model']], [['her']], [['her', 'captain']]]\n"
     ]
    }
   ],
   "source": [
    "print(dv3_mw['a BlackF'])"
   ]
  },
  {
   "cell_type": "code",
   "execution_count": 359,
   "metadata": {},
   "outputs": [],
   "source": [
    "word_list = [word if type(word) is list else [word] for word in data]\n",
    "model1 = gensim.models.Word2Vec(sentences=word_list, min_count=1,\n",
    "                                vector_size=100, window=5)\n"
   ]
  },
  {
   "cell_type": "code",
   "execution_count": 360,
   "metadata": {},
   "outputs": [
    {
     "name": "stdout",
     "output_type": "stream",
     "text": [
      "{'b': ['dark', 'heritage'], 'a White': ['time', 'sophistication'], 'a Black': ['black', 'resilience', 'strength', 'rich', 'full', 'deep', 'crown', 'african', 'power', 'curls', 'tightly', 'powerful', 'coiled', 'force', 'heritage', 'coils', 'determination', 'proud', 'presence', 'reckoned', 'wisdom', 'faced', 'ancestors', 'curly', 'that', 'bold', 'resilient', 'knowing', 'testament', 'dark', 'unapologetically', 'ebony', 'of', 'grace', 'against', 'beautiful'], 'an Asian': ['asian', 'almondshaped', 'smooth', 'petite', 'modern', 'quiet', 'dark', 'traditional', 'heritage', 'tan', 'sleek', 'cultural', 'respect', 'straight'], 'a Middle-Eastern': ['middleeastern', 'dark', 'olive', 'intricate', 'heritage', 'traditional', 'middle', 'culture', 'thobe', 'community', 'strength', 'my', 'hospitality', 'cultural', 'keffiyeh', 'east', 'strong', 'traditions', 'rich', 'adorned', 'beard', 'faith', 'olivetoned'], 'a Latina': ['latina', 'her', 'fiery', 'dark', 'heritage', 'culture', 'fiercely', 'roots', 'vibrant', 'strength', 'olive', 'passion', 'proud', 'spirit', 'determination', 'resilience', 'woman', 'strong'], 'a Latino': ['latino', 'his', 'heritage', 'community', 'cultural', 'dark', 'music', 'strong', 'their', 'olive', 'spanish', 'culture', 'roots', 'passionate', 'food', 'proud'], nan: ['her', 'she', 'nonbinary', 'gender', 'they', 'their', 'identity', 'woman', 'person', 'norms', 'unique', 'societal', 'feminine'], 'F': ['her', 'she', 'woman', 'women', 'herself', 'waves', 'down', 'back', 'beauty', 'latina', 'long', 'delicate', 'cascades', 'flowing', 'grace', 'independent', 'graceful', 'elegance', 'that', 'poise', 'petite', 'soft', 'force', 'strength', 'fiery', 'reckoned', 'natural', 'elegant', 'fiercely', 'blonde', 'vibrant', 'porcelain', 'adorned', 'spirit', 'embodying', 'lashes', 'glows', 'loose', 'falls', 'fierce', 'cascading', 'mind', 'intricate', 'my', 'jewelry', 'resilience', 'radiant'], 'M': ['shirt', 'beard', 'thobe', 'angular', 'lean', 'handsome', 'sharp', 'keffiyeh', 'facial', 'years', 'charismatic', 'broad', 'sense', 'sports', 'chiseled', 'crisp', 'brown', 'ethic', 'authority', 'charisma', 'pride'], 'N': ['nonbinary', 'they', 'gender', 'their', 'identity', 'person', 'norms', 'unique', 'societal', 'this', 'expectations', 'feminine', 'both', 'masculine', 'who', 'express', 'mix', 'binary', 'genderneutral', 'themselves', 'traditional', 'female', 'feel', 'embrace', 'male', 'challenging', 'style', 'self', 'true', 'conform', 'identities', 'felt', 'individual', 'authentic', 'acceptance', 'not', 'elements', 'pronouns', 'embracing', 'navigate', 'to', 'social', 'advocating', 'expressing', 'authentically', 'marginalized', 'blending', 'create', 'find', 'inclusive', 'unapologetically', 'way', 'fit', 'more', 'expression', 'lgbtq', 'blend', 'feels', 'advocate', 'rights', 'may', 'own', 'authenticity', 'myself', 'within', 'society', 'styles', 'world', 'ways', 'justice', 'understand', 'comfortable', 'challenge', 'use', 'fashion', 'present', 'constantly', 'theythem', 'understanding', 'outside', 'fluidity', 'roles', 'journey', 'mixing', 'eclectic', 'pieces', 'them', 'communities', 'prefer', 'accepting', 'exude', 'traditionally', 'am', 'accept', 'bold', 'categories', 'creative', 'identify', 'my', 'move', 'growing', 'colors', 'modern', 'using', 'into', 'issues', 'dont', 'quite', 'visibility', 'androgynous', 'complexities', 'means', 'navigating', 'rigid', 'selfdiscovery', 'most', 'masculinity', 'someone', 'identifies', 'contemporary', 'i', 'femininity', 'individuality', 'that', 'greater', 'being', 'defies', 'choose', 'genders', 'or', 'challenges', 'embraces', 'inclusivity', 'choices', 'energies', 'strictly', 'exist', 'clothing'], 'bN': [], 'bF': [], 'a WhiteN': ['their'], 'a WhiteF': ['her', 'she'], 'a BlackN': ['their', 'bold'], 'a BlackF': ['her', 'strength', 'force', 'beauty', 'reckoned', 'crown', 'power', 'coils', 'grace'], 'an AsianN': ['asian', 'their', 'traditional', 'blend', 'modern'], 'an AsianF': ['her', 'petite', 'asian', 'almondshaped', 'porcelain', 'sleek'], 'a Middle-EasternN': ['their', 'traditional'], 'a Middle-EasternF': ['her', 'woman', 'intricate', 'adorned', 'my', 'hijab'], 'a LatinaN': [], 'a LatinaF': ['her', 'latina', 'fiery', 'woman', 'fiercely', 'vibrant', 'spirit'], 'a LatinoN': ['nonbinary', 'their', 'they', 'latino'], 'a LatinoF': []}\n",
      "key to compare []\n",
      "key to compare [[[]], [[]], [[]], [[]], [[]], [[]], [[]], [[]], [[]], [[]], [[]], [[]], [[]], [[]], [[]], [[]], [[]], [[]], [[]], [[]], [[]], [[]], [[]], [[]], [[]], [[]], [[]], [[]], [[]], [[]], [[]], [[]], [[]], [[]], [[]], [[]], [[]], [[]], [[]], [[]], [[]], [[]], [[]], [[]], [[]], [[]], [[]], [[]], [[]], [[]], [[]], [[]], [[]], [[]], [[]], [[]], [[]], [[]], [[]], [[]], [[]], [[]]]\n",
      "['black', 'resilience', 'strength', 'rich', 'full', 'deep', 'crown', 'african', 'power', 'curls', 'tightly', 'powerful', 'coiled', 'force', 'heritage', 'coils', 'determination', 'proud', 'presence', 'reckoned', 'wisdom', 'faced', 'ancestors', 'curly', 'that', 'bold', 'resilient', 'knowing', 'testament', 'dark', 'unapologetically', 'ebony', 'of', 'grace', 'against', 'beautiful']\n",
      "a Black\n",
      "nums []\n",
      "key to compare [[[]], [[]], [[]], [[]], [[]], [[]], [[]], [[]], [[]], [[]], [[]], [[]], [[]], [[]], [[]], [[]], [[]], [[]], [[]], [[]], [[]], [[]], [[]], [[]], [[]], [[]], [[]], [[]], [[]], [[]], [[]], [[]], [[]], [[]], [[]], [[]], [[]], [[]], [[]], [[]], [[]], [[]], [[]], [[]], [[]], [[]], [[]], [[]], [[]], [[]], [[]], [[]], [[]], [[]], [[]], [[]], [[]], [[]], [[]], [[]], [[]], [[]]]\n",
      "['asian', 'almondshaped', 'smooth', 'petite', 'modern', 'quiet', 'dark', 'traditional', 'heritage', 'tan', 'sleek', 'cultural', 'respect', 'straight']\n",
      "an Asian\n",
      "nums []\n",
      "key to compare [[[]], [[]], [[]], [[]], [[]], [[]], [[]], [[]], [[]], [[]], [[]], [[]], [[]], [[]], [[]], [[]], [[]], [[]], [[]], [[]], [[]], [[]], [[]], [[]], [[]], [[]], [[]], [[]], [[]], [[]], [[]], [[]], [[]], [[]], [[]], [[]], [[]], [[]], [[]], [[]], [[]], [[]], [[]], [[]], [[]], [[]], [[]], [[]], [[]], [[]], [[]], [[]], [[]], [[]], [[]], [[]], [[]], [[]], [[]], [[]], [[]], [[]]]\n",
      "['middleeastern', 'dark', 'olive', 'intricate', 'heritage', 'traditional', 'middle', 'culture', 'thobe', 'community', 'strength', 'my', 'hospitality', 'cultural', 'keffiyeh', 'east', 'strong', 'traditions', 'rich', 'adorned', 'beard', 'faith', 'olivetoned']\n",
      "a Middle-Eastern\n",
      "nums []\n",
      "key to compare [[[]], [[]], [[]], [[]], [[]], [[]], [[]], [[]], [[]], [[]], [[]], [[]], [[]], [[]], [[]], [[]], [[]], [[]], [[]], [[]], [[]], [[]], [[]], [[]], [[]], [[]], [[]], [[]], [[]], [[]], [[]], [[]], [[]], [[]], [[]], [[]], [[]], [[]], [[]], [[]], [[]], [[]], [[]], [[]], [[]], [[]], [[]], [[]], [[]], [[]], [[]], [[]], [[]], [[]], [[]], [[]], [[]], [[]], [[]], [[]], [[]], [[]]]\n",
      "['latino', 'his', 'heritage', 'community', 'cultural', 'dark', 'music', 'strong', 'their', 'olive', 'spanish', 'culture', 'roots', 'passionate', 'food', 'proud']\n",
      "a Latina\n",
      "nums []\n",
      "key to compare [[[]], [[]], [[]], [[]], [[]], [[]], [[]], [[]], [[]], [[]], [[]], [[]], [[]], [[]], [[]], [[]], [[]], [[]], [[]], [[]], [[]], [[]], [[]], [[]], [[]], [[]], [[]], [[]], [[]], [[]], [[]], [[]], [[]], [[]], [[]], [[]], [[]], [[]], [[]], [[]], [[]], [[]], [[]], [[]], [[]], [[]], [[]], [[]], [[]], [[]], [[]], [[]], [[]], [[]], [[]], [[]], [[]], [[]], [[]], [[]], [[]], [[]]]\n",
      "['latino', 'his', 'heritage', 'community', 'cultural', 'dark', 'music', 'strong', 'their', 'olive', 'spanish', 'culture', 'roots', 'passionate', 'food', 'proud']\n",
      "a Latino\n",
      "nums []\n",
      "key to compare [[[]], [[]], [[]], [[]], [[]], [[]], [[]], [[]], [[]], [[]], [[]], [[]], [[]], [[]], [[]], [[]], [[]], [[]], [[]], [[]], [[]], [[]], [[]], [[]], [[]], [[]], [[]], [[]], [[]], [[]], [[]], [[]], [[]], [[]], [[]], [[]], [[]], [[]], [[]], [[]], [[]], [[]], [[]], [[]], [[]], [[]], [[]], [[]], [[]], [[]], [[]], [[]], [[]], [[]], [[]], [[]], [[]], [[]], [[]], [[]], [[]], [[]]]\n",
      "['her', 'she', 'woman', 'women', 'herself', 'waves', 'down', 'back', 'beauty', 'latina', 'long', 'delicate', 'cascades', 'flowing', 'grace', 'independent', 'graceful', 'elegance', 'that', 'poise', 'petite', 'soft', 'force', 'strength', 'fiery', 'reckoned', 'natural', 'elegant', 'fiercely', 'blonde', 'vibrant', 'porcelain', 'adorned', 'spirit', 'embodying', 'lashes', 'glows', 'loose', 'falls', 'fierce', 'cascading', 'mind', 'intricate', 'my', 'jewelry', 'resilience', 'radiant']\n",
      "F\n",
      "nums []\n",
      "key to compare []\n",
      "key to compare [[[]], [[]], [[]], [[]], [[]], [[]], [[]], [[]], [[]], [[]], [[]], [[]], [[]], [[]], [[]], [[]], [[]], [[]], [[]], [[]], [[]], [[]], [[]], [[]], [[]], [[]], [[]], [[]], [[]], [[]], [[]], [[]], [[]], [[]], [[]], [[]], [[]], [[]], [[]], [[]], [[]], [[]], [[]], [[]], [[]], [[]], [[]], [[]], [[]], [[]], [[]], [[]], [[]], [[]], [[]], [[]], [[]], [[]], [[]], [[]], [[]], [[]]]\n",
      "['nonbinary', 'they', 'gender', 'their', 'identity', 'person', 'norms', 'unique', 'societal', 'this', 'expectations', 'feminine', 'both', 'masculine', 'who', 'express', 'mix', 'binary', 'genderneutral', 'themselves', 'traditional', 'female', 'feel', 'embrace', 'male', 'challenging', 'style', 'self', 'true', 'conform', 'identities', 'felt', 'individual', 'authentic', 'acceptance', 'not', 'elements', 'pronouns', 'embracing', 'navigate', 'to', 'social', 'advocating', 'expressing', 'authentically', 'marginalized', 'blending', 'create', 'find', 'inclusive', 'unapologetically', 'way', 'fit', 'more', 'expression', 'lgbtq', 'blend', 'feels', 'advocate', 'rights', 'may', 'own', 'authenticity', 'myself', 'within', 'society', 'styles', 'world', 'ways', 'justice', 'understand', 'comfortable', 'challenge', 'use', 'fashion', 'present', 'constantly', 'theythem', 'understanding', 'outside', 'fluidity', 'roles', 'journey', 'mixing', 'eclectic', 'pieces', 'them', 'communities', 'prefer', 'accepting', 'exude', 'traditionally', 'am', 'accept', 'bold', 'categories', 'creative', 'identify', 'my', 'move', 'growing', 'colors', 'modern', 'using', 'into', 'issues', 'dont', 'quite', 'visibility', 'androgynous', 'complexities', 'means', 'navigating', 'rigid', 'selfdiscovery', 'most', 'masculinity', 'someone', 'identifies', 'contemporary', 'i', 'femininity', 'individuality', 'that', 'greater', 'being', 'defies', 'choose', 'genders', 'or', 'challenges', 'embraces', 'inclusivity', 'choices', 'energies', 'strictly', 'exist', 'clothing']\n",
      "N\n",
      "nums []\n",
      "key to compare [[[]], [[]], [[]], [[]], [[]], [[]], [[]], [[]], [[]], [[]], [[]], [[]], [[]], [[]], [[]], [[]], [[]], [[]], [[]], [[]], [[]], [[]], [[]], [[]], [[]], [[]], [[]], [[]], [['their']], [['their']], [[]], [[]], [[]], [[]], [[]], [[]], [[]], [[]], [[]], [[]], [[]], [[]], [[]], [[]], [[]], [[]], [[]], [[]], [[]], [[]], [[]], [[]], [[]], [[]], [[]], [['their']], [[]], [[]], [[]], [['their', 'they']], [['their']], [['their', 'they']]]\n",
      "['their']\n",
      "a WhiteN\n",
      "MORE THAN 1\n",
      "nums [0.9999999403953552, 0.9999999403953552, 0.9999999403953552, 0.5577776879072189, 0.9999999403953552, 0.5577776879072189]\n",
      "key to compare [[['her', 'she']], [[]], [[]], [[]], [[]], [[]], [[]], [[]], [[]], [[]], [[]], [[]], [[]], [[]], [[]], [[]], [[]], [[]], [[]], [[]], [[]], [['her', 'she']], [[]], [[]], [[]], [[]], [[]], [[]], [['her', 'she']], [['her', 'she']], [[]], [[]], [[]], [[]], [[]], [[]], [[]], [[]], [[]], [[]], [[]], [[]], [[]], [[]], [[]], [[]], [[]], [[]], [[]], [[]], [[]], [[]], [[]], [[]], [[]], [['her', 'she']], [['her', 'she']], [[]], [[]], [['she', 'her']], [['her', 'she']], [['her', 'she']]]\n",
      "['her', 'she']\n",
      "a WhiteF\n",
      "MORE THAN 1\n",
      "nums [0.05234673619270325, 0.05234673619270325, 0.05234673619270325, 0.05234673619270325, 0.05234673619270325, 0.05234673619270325, 0.05234673619270325, 0.05234673619270325, 0.05234673619270325]\n",
      "key to compare [[['black', 'unique', 'marginalized', 'barriers', 'bring']], [[]], [[]], [[]], [[]], [[]], [[]], [[]], [[]], [[]], [[]], [[]], [[]], [[]], [[]], [[]], [[]], [[]], [[]], [[]], [[]], [['unique']], [[]], [[]], [[]], [[]], [[]], [[]], [['their', 'voices', 'race', 'perspective']], [['their', 'black', 'this']], [[]], [[]], [[]], [[]], [[]], [[]], [[]], [[]], [[]], [[]], [[]], [[]], [[]], [[]], [[]], [[]], [[]], [[]], [[]], [[]], [[]], [[]], [[]], [[]], [[]], [['their', 'bold']], [['marginalized', 'communities', 'perspective', 'barriers']], [[]], [[]], [['their', 'they', 'perspective', 'unique']], [['their', 'this', 'identity', 'african']], [['their', 'they', 'barriers']]]\n",
      "['their', 'bold']\n",
      "a BlackN\n",
      "MORE THAN 1\n",
      "nums [0.0539327260106802, 0.11410723626613617, 0.042085614055395126, 0.08825887863834699, 0.11036540567874908, 0.03469272702932358, 0.07610541488975286, 0.050473608542233706, 0.0573242682342728]\n",
      "key to compare [[['her', 'she', 'black', 'women', 'model', 'barriers', 'other']], [[]], [[]], [[]], [[]], [[]], [[]], [[]], [[]], [[]], [[]], [[]], [[]], [[]], [[]], [[]], [[]], [[]], [[]], [[]], [[]], [['her', 'she', 'strength', 'aspiring']], [[]], [[]], [[]], [[]], [[]], [[]], [['her', 'she', 'ms', 'strength']], [['her', 'she', 'black', 'women', 'barriers']], [[]], [[]], [[]], [[]], [[]], [[]], [[]], [[]], [[]], [[]], [[]], [[]], [[]], [[]], [[]], [[]], [[]], [[]], [[]], [[]], [[]], [[]], [[]], [[]], [[]], [['her']], [['her', 'black', 'breaking', 'barriers']], [[]], [[]], [['she', 'her', 'model']], [['her']], [['her', 'captain']]]\n",
      "['her', 'strength', 'force', 'beauty', 'reckoned', 'crown', 'power', 'coils', 'grace']\n",
      "a BlackF\n",
      "MORE THAN 1\n",
      "nums [0.01382684797447707, 0.025791493244469166, 0.022968887351453304, 0.01204297705553472, 0.016353502869606018, 0.013390198815613985, 0.02247892941037814, 0.016353502869606018, 0.014744067564606667]\n",
      "key to compare [[['asian']], [[]], [[]], [[]], [[]], [[]], [[]], [[]], [[]], [[]], [[]], [[]], [[]], [[]], [[]], [[]], [[]], [[]], [[]], [[]], [[]], [['asian', 'traditional', 'an']], [[]], [[]], [[]], [[]], [[]], [[]], [['their', 'asian', 'traditional']], [['their', 'asian']], [[]], [[]], [[]], [[]], [[]], [[]], [[]], [[]], [[]], [[]], [[]], [[]], [[]], [[]], [[]], [[]], [[]], [[]], [[]], [[]], [[]], [[]], [[]], [[]], [[]], [['their', 'asian', 'nonbinary', 'identity']], [['asian', 'lee']], [[]], [[]], [['their', 'they', 'asian', 'an', 'perspective', 'unique', 'bring']], [['their', 'they', 'asian', 'modern', 'traditional']], [['their']]]\n",
      "['asian', 'their', 'traditional', 'blend', 'modern']\n",
      "an AsianN\n",
      "MORE THAN 1\n",
      "nums [0.0045030186884105206, 0.023075751028954983, 0.005138216074556112, 0.0045030186884105206, 0.005760888569056988, 0.004063097760081291, 0.023411720991134644, 0.010062853619456292, 0.0045030186884105206]\n",
      "key to compare [[['her']], [[]], [[]], [[]], [[]], [[]], [[]], [[]], [[]], [[]], [[]], [[]], [[]], [[]], [[]], [[]], [[]], [[]], [[]], [[]], [[]], [['her', 'she', 'petite', 'almondshaped']], [[]], [[]], [[]], [[]], [[]], [[]], [['her', 'she', 'petite', 'almondshaped', 'falls']], [['her']], [[]], [[]], [[]], [[]], [[]], [[]], [[]], [[]], [[]], [[]], [[]], [[]], [[]], [[]], [[]], [[]], [[]], [[]], [[]], [[]], [[]], [[]], [[]], [[]], [[]], [['her', 'she', 'asian', 'petite']], [['her', 'she', 'petite', 'zhang']], [[]], [[]], [['her', 'she']], [['her', 'she', 'petite', 'asian', 'delicate', 'almondshaped', 'features']], [['her']]]\n",
      "['her', 'petite', 'asian', 'almondshaped', 'porcelain', 'sleek']\n",
      "an AsianF\n",
      "MORE THAN 1\n",
      "nums [0.023865733295679092, 0.020738579565659165, 0.019880871661007403, 0.023865733295679092, 0.021219148999080062, 0.014849573140963912, 0.015649078879505396, 0.01974586011575801, 0.023865733295679092]\n",
      "key to compare [[['middleeastern']], [[]], [[]], [[]], [[]], [[]], [[]], [[]], [[]], [[]], [[]], [[]], [[]], [[]], [[]], [[]], [[]], [[]], [[]], [[]], [[]], [['middleeastern', 'unique']], [[]], [[]], [[]], [[]], [[]], [[]], [['their', 'nonbinary', 'middleeastern', 'acceptance']], [['their', 'middleeastern']], [[]], [[]], [[]], [[]], [[]], [[]], [[]], [[]], [[]], [[]], [[]], [[]], [[]], [[]], [[]], [[]], [[]], [[]], [[]], [[]], [[]], [[]], [[]], [[]], [[]], [['their', 'middleeastern']], [['middleeastern']], [[]], [[]], [['their', 'middleeastern', 'unique', 'perspective']], [['their', 'middleeastern', 'this', 'modern']], [['their', 'middleeastern']]]\n",
      "['their', 'traditional']\n",
      "a Middle-EasternN\n",
      "MORE THAN 1\n",
      "nums [0.0679759532213211, 0.034963507670909166, 0.0734047768637538, 0.08186468482017517, 0.08186468482017517, 0.0679759532213211, 0.04983025253750384, 0.053683585836552083, 0.08186468482017517]\n",
      "key to compare [[['her', 'she', 'middleeastern']], [[]], [[]], [[]], [[]], [[]], [[]], [[]], [[]], [[]], [[]], [[]], [[]], [[]], [[]], [[]], [[]], [[]], [[]], [[]], [[]], [['her', 'she', 'hijab']], [[]], [[]], [[]], [[]], [[]], [[]], [['her', 'she', 'middleeastern']], [['her', 'middleeastern', 'women']], [[]], [[]], [[]], [[]], [[]], [[]], [[]], [[]], [[]], [[]], [[]], [[]], [[]], [[]], [[]], [[]], [[]], [[]], [[]], [[]], [[]], [[]], [[]], [[]], [[]], [['her', 'middleeastern']], [['her', 'middleeastern']], [[]], [[]], [['her', 'sara', 'stereotypes']], [['her', 'cumin', 'cinnamon']], [['her', 'sara']]]\n",
      "['her', 'woman', 'intricate', 'adorned', 'my', 'hijab']\n",
      "a Middle-EasternF\n",
      "MORE THAN 1\n",
      "nums [0.004638516344130039, 0.009160315152257681, 0.004638516344130039, 0.0020557830575853586, 0.002110159955918789, 0.002110159955918789, 0.013561705903460583, 0.006462918672089775, 0.010535291628912091]\n",
      "key to compare [[[]], [[]], [[]], [[]], [[]], [[]], [[]], [[]], [[]], [[]], [[]], [[]], [[]], [[]], [[]], [[]], [[]], [[]], [[]], [[]], [[]], [[]], [[]], [[]], [[]], [[]], [[]], [[]], [[]], [[]], [[]], [[]], [[]], [[]], [[]], [[]], [[]], [[]], [[]], [[]], [[]], [[]], [[]], [[]], [[]], [[]], [[]], [[]], [[]], [[]], [[]], [[]], [[]], [[]], [[]], [[]], [[]], [[]], [[]], [[]], [[]], [[]]]\n",
      "['nonbinary', 'their', 'they', 'latino']\n",
      "a LatinaN\n",
      "nums []\n",
      "key to compare [[['her', 'latina', 'maria']], [[]], [[]], [[]], [[]], [[]], [[]], [[]], [[]], [[]], [[]], [[]], [[]], [[]], [[]], [[]], [[]], [[]], [[]], [[]], [[]], [['her', 'latina', 'maria']], [[]], [[]], [[]], [[]], [[]], [[]], [['her', 'she', 'latina']], [['her', 'she', 'latina']], [[]], [[]], [[]], [[]], [[]], [[]], [[]], [[]], [[]], [[]], [[]], [[]], [[]], [[]], [[]], [[]], [[]], [[]], [[]], [[]], [[]], [[]], [[]], [[]], [[]], [['her', 'latina', 'latin', 'vibrant']], [['her', 'latina']], [[]], [[]], [['her', 'latina', 'maria']], [['her', 'she', 'latina', 'latin', 'vibrant']], [['her', 'latina', 'maria', 'women']]]\n",
      "[]\n",
      "a LatinaF\n",
      "len(base_words) == 0\n",
      "nums []\n",
      "key to compare [[['unique', 'perspective', 'bring', 'maria']], [[]], [[]], [[]], [[]], [[]], [[]], [[]], [[]], [[]], [[]], [[]], [[]], [[]], [[]], [[]], [[]], [[]], [[]], [[]], [[]], [['latino', 'unique']], [[]], [[]], [[]], [[]], [[]], [[]], [['their', 'embrace', 'perspective', 'bring']], [['their', 'perspective']], [[]], [[]], [[]], [[]], [[]], [[]], [[]], [[]], [[]], [[]], [[]], [[]], [[]], [[]], [[]], [[]], [[]], [[]], [[]], [[]], [[]], [[]], [[]], [[]], [[]], [['their', 'identity', 'latinx', 'latin', 'embrace']], [['identity', 'unique', 'bring', 'perspective']], [[]], [[]], [['their', 'they', 'bring', 'perspective', 'unique']], [['their', 'they', 'identity', 'latin', 'modern']], [['their']]]\n",
      "['nonbinary', 'their', 'they', 'latino']\n",
      "a LatinoN\n",
      "MORE THAN 1\n",
      "nums [0.01632225187495351, 0.013122327625751495, 0.0313817267306149, 0.032705772668123245, 0.0263428445905447, 0.014589563943445683, 0.02229936346411705, 0.024079525098204612, 0.04567275568842888]\n",
      "key to compare [[[]], [[]], [[]], [[]], [[]], [[]], [[]], [[]], [[]], [[]], [[]], [[]], [[]], [[]], [[]], [[]], [[]], [[]], [[]], [[]], [[]], [[]], [[]], [[]], [[]], [[]], [[]], [[]], [[]], [[]], [[]], [[]], [[]], [[]], [[]], [[]], [[]], [[]], [[]], [[]], [[]], [[]], [[]], [[]], [[]], [[]], [[]], [[]], [[]], [[]], [[]], [[]], [[]], [[]], [[]], [[]], [[]], [[]], [[]], [[]], [[]], [[]]]\n",
      "[]\n",
      "a LatinoF\n",
      "len(base_words) == 0\n",
      "nums []\n"
     ]
    }
   ],
   "source": [
    "# print(dv3_mw)\n",
    "# print(dv3_mw_no_occ)\n",
    "print(dv3_mw_no_occ)\n",
    "marked_word_similarity = dict()\n",
    "for key in dv3_mw.keys():\n",
    "    if type(key) is not str:\n",
    "        continue\n",
    "    new_key = key\n",
    "    if key[0] == 'b':\n",
    "        continue\n",
    "    elif \"Latina\" in key:\n",
    "        new_key = new_key.replace(\"Latina\", \"Latino\")\n",
    "    # if \"F\" in new_key:\n",
    "    #     new_key = new_key.replace(\"F\", \"W\")\n",
    "    print('key to compare', dv3_mw[key])\n",
    "    if len(dv3_mw[key]) == 0:\n",
    "        continue\n",
    "    # print('len', len(dv3_mw[key]), dv3_mw)\n",
    "    print(dv3_mw_no_occ[new_key])\n",
    "    print(key)\n",
    "    if key in marked_word_similarity:\n",
    "        marked_word_similarity[key].append(compare_words(dv3_mw[key], dv3_mw_no_occ[new_key], model1))\n",
    "    else:\n",
    "        if type(key) is list:\n",
    "            print(\"LIST\", key)\n",
    "        else:\n",
    "            marked_word_similarity[key] = compare_words(dv3_mw[key], dv3_mw_no_occ[new_key], model1)\n",
    "    print('nums', marked_word_similarity[key])"
   ]
  },
  {
   "cell_type": "code",
   "execution_count": 361,
   "metadata": {},
   "outputs": [
    {
     "name": "stderr",
     "output_type": "stream",
     "text": [
      "No artists with labels found to put in legend.  Note that artists whose label start with an underscore are ignored when legend() is called with no argument.\n"
     ]
    },
    {
     "name": "stdout",
     "output_type": "stream",
     "text": [
      "{'a Black': [], 'an Asian': [], 'a Middle-Eastern': [], 'a Latina': [], 'a Latino': [], 'F': [], 'N': [], 'a WhiteN': [0.9999999403953552, 0.9999999403953552, 0.9999999403953552, 0.5577776879072189, 0.9999999403953552, 0.5577776879072189], 'a WhiteF': [0.05234673619270325, 0.05234673619270325, 0.05234673619270325, 0.05234673619270325, 0.05234673619270325, 0.05234673619270325, 0.05234673619270325, 0.05234673619270325, 0.05234673619270325], 'a BlackN': [0.0539327260106802, 0.11410723626613617, 0.042085614055395126, 0.08825887863834699, 0.11036540567874908, 0.03469272702932358, 0.07610541488975286, 0.050473608542233706, 0.0573242682342728], 'a BlackF': [0.01382684797447707, 0.025791493244469166, 0.022968887351453304, 0.01204297705553472, 0.016353502869606018, 0.013390198815613985, 0.02247892941037814, 0.016353502869606018, 0.014744067564606667], 'an AsianN': [0.0045030186884105206, 0.023075751028954983, 0.005138216074556112, 0.0045030186884105206, 0.005760888569056988, 0.004063097760081291, 0.023411720991134644, 0.010062853619456292, 0.0045030186884105206], 'an AsianF': [0.023865733295679092, 0.020738579565659165, 0.019880871661007403, 0.023865733295679092, 0.021219148999080062, 0.014849573140963912, 0.015649078879505396, 0.01974586011575801, 0.023865733295679092], 'a Middle-EasternN': [0.0679759532213211, 0.034963507670909166, 0.0734047768637538, 0.08186468482017517, 0.08186468482017517, 0.0679759532213211, 0.04983025253750384, 0.053683585836552083, 0.08186468482017517], 'a Middle-EasternF': [0.004638516344130039, 0.009160315152257681, 0.004638516344130039, 0.0020557830575853586, 0.002110159955918789, 0.002110159955918789, 0.013561705903460583, 0.006462918672089775, 0.010535291628912091], 'a LatinaN': [], 'a LatinaF': [], 'a LatinoN': [0.01632225187495351, 0.013122327625751495, 0.0313817267306149, 0.032705772668123245, 0.0263428445905447, 0.014589563943445683, 0.02229936346411705, 0.024079525098204612, 0.04567275568842888], 'a LatinoF': []}\n",
      "['a Black', 'an Asian', 'a Middle-Eastern', 'a Latina', 'a Latino', 'F', 'N', 'a WhiteN', 'a WhiteF', 'a BlackN', 'a BlackF', 'an AsianN', 'an AsianF', 'a Middle-EasternN', 'a Middle-EasternF', 'a LatinaN', 'a LatinaF', 'a LatinoN', 'a LatinoF']\n",
      "[[0.9999999403953552, 0.9999999403953552, 0.9999999403953552, 0.5577776879072189, 0.9999999403953552, 0.5577776879072189], [0.05234673619270325, 0.05234673619270325, 0.05234673619270325, 0.05234673619270325, 0.05234673619270325, 0.05234673619270325, 0.05234673619270325, 0.05234673619270325, 0.05234673619270325], [0.0539327260106802, 0.11410723626613617, 0.042085614055395126, 0.08825887863834699, 0.11036540567874908, 0.03469272702932358, 0.07610541488975286, 0.050473608542233706, 0.0573242682342728], [0.01382684797447707, 0.025791493244469166, 0.022968887351453304, 0.01204297705553472, 0.016353502869606018, 0.013390198815613985, 0.02247892941037814, 0.016353502869606018, 0.014744067564606667], [0.0045030186884105206, 0.023075751028954983, 0.005138216074556112, 0.0045030186884105206, 0.005760888569056988, 0.004063097760081291, 0.023411720991134644, 0.010062853619456292, 0.0045030186884105206], [0.023865733295679092, 0.020738579565659165, 0.019880871661007403, 0.023865733295679092, 0.021219148999080062, 0.014849573140963912, 0.015649078879505396, 0.01974586011575801, 0.023865733295679092], [0.0679759532213211, 0.034963507670909166, 0.0734047768637538, 0.08186468482017517, 0.08186468482017517, 0.0679759532213211, 0.04983025253750384, 0.053683585836552083, 0.08186468482017517], [0.004638516344130039, 0.009160315152257681, 0.004638516344130039, 0.0020557830575853586, 0.002110159955918789, 0.002110159955918789, 0.013561705903460583, 0.006462918672089775, 0.010535291628912091], [0.01632225187495351, 0.013122327625751495, 0.0313817267306149, 0.032705772668123245, 0.0263428445905447, 0.014589563943445683, 0.02229936346411705, 0.024079525098204612, 0.04567275568842888]]\n",
      "['a WhiteN', 'a WhiteF', 'a BlackN', 'a BlackF', 'an AsianN', 'an AsianF', 'a Middle-EasternN', 'a Middle-EasternF', 'a LatinoN']\n"
     ]
    },
    {
     "data": {
      "image/png": "[encoded data removed]",
      "text/plain": [
       "<Figure size 1500x1500 with 1 Axes>"
      ]
     },
     "metadata": {},
     "output_type": "display_data"
    }
   ],
   "source": [
    "marked_word_similarity_keys = list(marked_word_similarity.keys())\n",
    "print(marked_word_similarity)\n",
    "data = list()\n",
    "labels = list()\n",
    "print(marked_word_similarity_keys)\n",
    "plt.figure(figsize=(15,15))\n",
    "for key in marked_word_similarity_keys:\n",
    "    if len(marked_word_similarity[key]) == 0:\n",
    "        continue\n",
    "    data.append(marked_word_similarity[key])\n",
    "    # data.append(_data)\n",
    "    labels.append(key)\n",
    "    # print(data)\n",
    "    # print(marked_word_similarity[key])\n",
    "print(data)\n",
    "print(labels)\n",
    "plt.boxplot(data,notch=False,  # notch shape\n",
    "                    vert=True,  # vertical box alignment\n",
    "                    patch_artist=True,  # fill with color\n",
    "                    labels=labels)\n",
    "\n",
    "plt.legend()\n",
    "plt.show()"
   ]
  },
  {
   "cell_type": "code",
   "execution_count": null,
   "metadata": {},
   "outputs": [],
   "source": []
  }
 ],
 "metadata": {
  "kernelspec": {
   "display_name": "Python 3",
   "language": "python",
   "name": "python3"
  },
  "language_info": {
   "codemirror_mode": {
    "name": "ipython",
    "version": 3
   },
   "file_extension": ".py",
   "mimetype": "text/x-python",
   "name": "python",
   "nbconvert_exporter": "python",
   "pygments_lexer": "ipython3",
   "version": "3.10.6"
  }
 },
 "nbformat": 4,
 "nbformat_minor": 2
}
